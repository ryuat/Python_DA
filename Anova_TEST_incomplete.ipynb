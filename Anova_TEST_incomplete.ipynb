{
 "cells": [
  {
   "cell_type": "markdown",
   "metadata": {},
   "source": [
    "<h3>서로 독립인 세 집단의 평균 차이 검정</h3>"
   ]
  },
  {
   "cell_type": "markdown",
   "metadata": {},
   "source": [
    "실습) 세 가지 교육방법을 적용하여 1개월 동안 교육받은 교육생 80명을 대상으로 실기시험을 실시."
   ]
  },
  {
   "cell_type": "code",
   "execution_count": 33,
   "metadata": {},
   "outputs": [],
   "source": [
    "import pandas as pd\n",
    "import scipy.stats as stats\n",
    "from statsmodels.formula.api import ols\n",
    "import urllib\n",
    "import matplotlib.pyplot as plt\n",
    "import statsmodels.api as sm"
   ]
  },
  {
   "cell_type": "code",
   "execution_count": 34,
   "metadata": {},
   "outputs": [],
   "source": [
    "data = pd.read_csv(\"testdata/three_sample.csv\")"
   ]
  },
  {
   "cell_type": "code",
   "execution_count": 35,
   "metadata": {},
   "outputs": [],
   "source": [
    "url = \"https://raw.githubusercontent.com/pykwon/python/master/testdata_utf8/three_sample.csv\"\n",
    "data = pd.read_csv(urllib.request.urlopen(url), delimiter=',', na_values= ' ') # 공백은 na value로 처리"
   ]
  },
  {
   "cell_type": "code",
   "execution_count": 36,
   "metadata": {},
   "outputs": [
    {
     "name": "stdout",
     "output_type": "stream",
     "text": [
      "   no  method  survey  score\n",
      "0   1       1       1     72\n",
      "1   2       3       1     87\n",
      "2   3       2       1     78\n",
      "<class 'pandas.core.frame.DataFrame'>\n",
      "RangeIndex: 80 entries, 0 to 79\n",
      "Data columns (total 4 columns):\n",
      "no        80 non-null int64\n",
      "method    80 non-null int64\n",
      "survey    80 non-null int64\n",
      "score     80 non-null int64\n",
      "dtypes: int64(4)\n",
      "memory usage: 2.6 KB\n",
      "None\n",
      "            no     method     survey       score\n",
      "count  80.0000  80.000000  80.000000   80.000000\n",
      "mean   40.5000   1.962500   0.650000   78.212500\n",
      "std    23.2379   0.802587   0.479979   64.886404\n",
      "min     1.0000   1.000000   0.000000   33.000000\n",
      "25%    20.7500   1.000000   0.000000   58.000000\n",
      "50%    40.5000   2.000000   1.000000   65.000000\n",
      "75%    60.2500   3.000000   1.000000   79.500000\n",
      "max    80.0000   3.000000   1.000000  500.000000\n"
     ]
    }
   ],
   "source": [
    "print(data.head(3))\n",
    "print(data.info())\n",
    "print(data.describe())"
   ]
  },
  {
   "cell_type": "code",
   "execution_count": 37,
   "metadata": {},
   "outputs": [
    {
     "data": {
      "image/png": "[encoded data removed]",
      "text/plain": [
       "<Figure size 432x288 with 1 Axes>"
      ]
     },
     "metadata": {},
     "output_type": "display_data"
    }
   ],
   "source": [
    "plt.boxplot(data.score)\n",
    "plt.show()"
   ]
  },
  {
   "cell_type": "code",
   "execution_count": 38,
   "metadata": {},
   "outputs": [
    {
     "data": {
      "text/plain": [
       "(array([ 2.,  2.,  7., 14., 16.,  8., 11.,  6.,  7.,  5.]),\n",
       " array([ 33. ,  39.7,  46.4,  53.1,  59.8,  66.5,  73.2,  79.9,  86.6,\n",
       "         93.3, 100. ]),\n",
       " <a list of 10 Patch objects>)"
      ]
     },
     "execution_count": 38,
     "metadata": {},
     "output_type": "execute_result"
    },
    {
     "data": {
      "image/png": "[encoded data removed]",
      "text/plain": [
       "<Figure size 432x288 with 1 Axes>"
      ]
     },
     "metadata": {},
     "output_type": "display_data"
    }
   ],
   "source": [
    "# outlier 처리 \n",
    "data = data.query('score <= 100') # 100이하인 데이터만 남도록\n",
    "plt.hist(data.score)"
   ]
  },
  {
   "cell_type": "code",
   "execution_count": 39,
   "metadata": {},
   "outputs": [
    {
     "name": "stdout",
     "output_type": "stream",
     "text": [
      "(0.9810646176338196, 0.2986918091773987)\n"
     ]
    }
   ],
   "source": [
    "# 모집단의 정규성 검정\n",
    "print(stats.shapiro(data.score)) \n",
    "# p-value 0.2986 > 0.05이므로 모집단이 정규분포를 따른다는 귀무가설을 기각할 수 없다"
   ]
  },
  {
   "cell_type": "code",
   "execution_count": 40,
   "metadata": {},
   "outputs": [
    {
     "data": {
      "text/html": [
       "<div>\n",
       "<style scoped>\n",
       "    .dataframe tbody tr th:only-of-type {\n",
       "        vertical-align: middle;\n",
       "    }\n",
       "\n",
       "    .dataframe tbody tr th {\n",
       "        vertical-align: top;\n",
       "    }\n",
       "\n",
       "    .dataframe thead th {\n",
       "        text-align: right;\n",
       "    }\n",
       "</style>\n",
       "<table border=\"1\" class=\"dataframe\">\n",
       "  <thead>\n",
       "    <tr style=\"text-align: right;\">\n",
       "      <th>col_0</th>\n",
       "      <th>count</th>\n",
       "    </tr>\n",
       "    <tr>\n",
       "      <th>method</th>\n",
       "      <th></th>\n",
       "    </tr>\n",
       "  </thead>\n",
       "  <tbody>\n",
       "    <tr>\n",
       "      <th>1</th>\n",
       "      <td>26</td>\n",
       "    </tr>\n",
       "    <tr>\n",
       "      <th>2</th>\n",
       "      <td>28</td>\n",
       "    </tr>\n",
       "    <tr>\n",
       "      <th>3</th>\n",
       "      <td>24</td>\n",
       "    </tr>\n",
       "  </tbody>\n",
       "</table>\n",
       "</div>"
      ],
      "text/plain": [
       "col_0   count\n",
       "method       \n",
       "1          26\n",
       "2          28\n",
       "3          24"
      ]
     },
     "execution_count": 40,
     "metadata": {},
     "output_type": "execute_result"
    }
   ],
   "source": [
    "# 교차표 : 교육방법 별 건수 \n",
    "pd.crosstab(index=data['method'], columns=['count'])"
   ]
  },
  {
   "cell_type": "code",
   "execution_count": 41,
   "metadata": {},
   "outputs": [
    {
     "name": "stdout",
     "output_type": "stream",
     "text": [
      "                  df        sum_sq     mean_sq         F    PR(>F)\n",
      "data[\"method\"]   1.0     27.980888   27.980888  0.122228  0.727597\n",
      "Residual        76.0  17398.134497  228.922822       NaN       NaN\n"
     ]
    }
   ],
   "source": [
    "reg_model = ols('data[\"score\"] ~ data[\"method\"]', data=data).fit() # 회귀분석 y:score , x:method\n",
    "anova_result = sm.stats.anova_lm(reg_model, type=2) # anova 수행을 위해 linear model 생성\n",
    "print(anova_result)\n",
    "#"
   ]
  },
  {
   "cell_type": "code",
   "execution_count": 42,
   "metadata": {},
   "outputs": [
    {
     "name": "stdout",
     "output_type": "stream",
     "text": [
      "                  df        sum_sq     mean_sq         F    PR(>F)\n",
      "data[\"method\"]   1.0     27.980888   27.980888  0.120810  0.729131\n",
      "data[\"survey\"]   1.0     27.324458   27.324458  0.117976  0.732201\n",
      "Residual        75.0  17370.810039  231.610801       NaN       NaN\n"
     ]
    }
   ],
   "source": [
    "reg_model2 = ols('data[\"score\"] ~ data[\"method\"] + data[\"survey\"]', data=data).fit() # 회귀분석 y:score , x:method\n",
    "anova_result2 = sm.stats.anova_lm(reg_model2, type=2) # anova 수행을 위해 linear model 생성\n",
    "print(anova_result2)"
   ]
  },
  {
   "cell_type": "code",
   "execution_count": 43,
   "metadata": {},
   "outputs": [
    {
     "name": "stdout",
     "output_type": "stream",
     "text": [
      "Multiple Comparison of Means - Tukey HSD,FWER=0.05\n",
      "=============================================\n",
      "group1 group2 meandiff  lower   upper  reject\n",
      "---------------------------------------------\n",
      "  1      2     0.9725   -8.946  10.891 False \n",
      "  1      3     1.4904  -8.8184 11.7992 False \n",
      "  2      3     0.5179  -9.6127 10.6484 False \n",
      "---------------------------------------------\n"
     ]
    },
    {
     "data": {
      "image/png": "[encoded data removed]",
      "text/plain": [
       "<Figure size 720x432 with 1 Axes>"
      ]
     },
     "execution_count": 43,
     "metadata": {},
     "output_type": "execute_result"
    },
    {
     "data": {
      "image/png": "[encoded data removed]",
      "text/plain": [
       "<Figure size 720x432 with 1 Axes>"
      ]
     },
     "metadata": {},
     "output_type": "display_data"
    }
   ],
   "source": [
    "from statsmodels.stats.multicomp import pairwise_tukeyhsd\n",
    "result = pairwise_tukeyhsd(data.score, data.method)\n",
    "print(result)\n",
    "result.plot_simultaneous()"
   ]
  },
  {
   "cell_type": "code",
   "execution_count": 44,
   "metadata": {},
   "outputs": [],
   "source": [
    "import MySQLdb\n",
    "import pandas as pd\n",
    "import numpy as np\n",
    "import scipy.stats as stats"
   ]
  },
  {
   "cell_type": "code",
   "execution_count": 45,
   "metadata": {},
   "outputs": [],
   "source": [
    "config = {\n",
    "    'host':'127.0.0.1',\n",
    "    'user':'root',\n",
    "    'password':'123',\n",
    "    'database':'test',\n",
    "    'port':3306,\n",
    "    'charset':'utf8',\n",
    "    'use_unicode':True\n",
    "}"
   ]
  },
  {
   "cell_type": "code",
   "execution_count": 46,
   "metadata": {},
   "outputs": [],
   "source": [
    "conn = MySQLdb.connect(**config)\n",
    "cursor = conn.cursor()"
   ]
  },
  {
   "cell_type": "code",
   "execution_count": 47,
   "metadata": {},
   "outputs": [
    {
     "data": {
      "text/plain": [
       "6"
      ]
     },
     "execution_count": 47,
     "metadata": {},
     "output_type": "execute_result"
    }
   ],
   "source": [
    "sql = \"\"\"select jikwon_no, jikwon_name, jikwon_jik, jikwon_pay from jikwon where jikwon_jik = '과장'\"\"\"\n",
    "cursor.execute(sql)"
   ]
  },
  {
   "cell_type": "code",
   "execution_count": 48,
   "metadata": {},
   "outputs": [],
   "source": [
    "df = pd.read_sql('select * from jikwon', conn)"
   ]
  },
  {
   "cell_type": "code",
   "execution_count": 49,
   "metadata": {},
   "outputs": [
    {
     "name": "stdout",
     "output_type": "stream",
     "text": [
      "   jikwon_no jikwon_name  buser_num jikwon_jik  jikwon_pay jikwon_ibsail  \\\n",
      "0          1         홍길동         10         이사        9900    2006-09-01   \n",
      "1          2         한송이         20         부장        8800    2007-01-03   \n",
      "2          3         이순신         20         과장        7900    2010-03-03   \n",
      "3          4         이미라         30         대리        4500    2014-01-04   \n",
      "4          5         이순라         20         사원        3000    2017-08-05   \n",
      "\n",
      "  jikwon_gen jikwon_rating  \n",
      "0          남             a  \n",
      "1          여             b  \n",
      "2          남             b  \n",
      "3          여             b  \n",
      "4          여             b  \n"
     ]
    }
   ],
   "source": [
    "print(df.head())"
   ]
  },
  {
   "cell_type": "code",
   "execution_count": 50,
   "metadata": {},
   "outputs": [
    {
     "name": "stdout",
     "output_type": "stream",
     "text": [
      "\n",
      " 각 부서와 직원 평가 점수 간의 관련성 분석: 귀무 - 관련이 없다\n"
     ]
    }
   ],
   "source": [
    "print('\\n 각 부서와 직원 평가 점수 간의 관련성 분석: 귀무 - 관련이 없다')"
   ]
  },
  {
   "cell_type": "code",
   "execution_count": 51,
   "metadata": {},
   "outputs": [
    {
     "name": "stdout",
     "output_type": "stream",
     "text": [
      "0    10\n",
      "1    20\n",
      "2    20\n",
      "3    30\n",
      "4    20\n",
      "Name: buser_num, dtype: int64\n"
     ]
    }
   ],
   "source": [
    "buser = df['buser_num'] # 범주형\n",
    "print(buser.head())"
   ]
  },
  {
   "cell_type": "code",
   "execution_count": 52,
   "metadata": {},
   "outputs": [],
   "source": [
    "rating = df['jikwon_rating']"
   ]
  },
  {
   "cell_type": "code",
   "execution_count": 53,
   "metadata": {},
   "outputs": [
    {
     "name": "stdout",
     "output_type": "stream",
     "text": [
      "jikwon_rating  a  b  c\n",
      "buser_num             \n",
      "10             5  1  1\n",
      "20             3  6  3\n",
      "30             5  2  0\n",
      "40             2  2  0\n"
     ]
    }
   ],
   "source": [
    "ctab = pd.crosstab(buser, rating)\n",
    "\n",
    "print(ctab)"
   ]
  },
  {
   "cell_type": "code",
   "execution_count": 54,
   "metadata": {},
   "outputs": [
    {
     "name": "stdout",
     "output_type": "stream",
     "text": [
      "7.339285714285714 0.2906064076671985\n"
     ]
    }
   ],
   "source": [
    "chi, p, _, _ = stats.chi2_contingency(ctab)\n",
    "print(chi, p)"
   ]
  },
  {
   "cell_type": "code",
   "execution_count": 55,
   "metadata": {},
   "outputs": [
    {
     "name": "stdout",
     "output_type": "stream",
     "text": [
      "\n",
      "각 부서와 직급 간의 관련성 분석: 귀무 - 관련이 없다\n"
     ]
    }
   ],
   "source": [
    "print('\\n각 부서와 직급 간의 관련성 분석: 귀무 - 관련이 없다')"
   ]
  },
  {
   "cell_type": "code",
   "execution_count": 56,
   "metadata": {},
   "outputs": [],
   "source": [
    "df = pd.read_sql('select * from jikwon where jikwon_no <= 10', conn)"
   ]
  },
  {
   "cell_type": "code",
   "execution_count": 57,
   "metadata": {},
   "outputs": [],
   "source": [
    "buser = df['buser_num']\n",
    "jik = df['jikwon_jik']"
   ]
  },
  {
   "cell_type": "code",
   "execution_count": 58,
   "metadata": {},
   "outputs": [],
   "source": [
    "ctab = pd.crosstab(buser, jik)"
   ]
  },
  {
   "cell_type": "code",
   "execution_count": 59,
   "metadata": {},
   "outputs": [
    {
     "name": "stdout",
     "output_type": "stream",
     "text": [
      "chi검정통계량:19.333333333333336, p:0.0807954255969231\n"
     ]
    }
   ],
   "source": [
    "chi, p, _, _ = stats.chi2_contingency(ctab)\n",
    "print('chi검정통계량:{}, p:{}'.format(chi, p))"
   ]
  },
  {
   "cell_type": "code",
   "execution_count": 60,
   "metadata": {},
   "outputs": [],
   "source": [
    "#T-test (평균 차이 분석 : 독립변수(x)-범주, 종속변수(y)-연속)"
   ]
  },
  {
   "cell_type": "code",
   "execution_count": 61,
   "metadata": {},
   "outputs": [],
   "source": [
    "df_10 = pd.read_sql('select buser_num, jikwon_pay from jikwon where buser_num=10',conn)"
   ]
  },
  {
   "cell_type": "code",
   "execution_count": 62,
   "metadata": {},
   "outputs": [],
   "source": [
    "df_20 = pd.read_sql('select buser_num, jikwon_pay from jikwon where buser_num=20',conn)"
   ]
  },
  {
   "cell_type": "code",
   "execution_count": 63,
   "metadata": {},
   "outputs": [],
   "source": [
    "buser10 = df_10['jikwon_pay'] # 10번 부서 집단의 연봉 \n",
    "buser20 = df_20['jikwon_pay'] # 20번 부서 집단의 연봉 \n",
    "\n",
    "t_result = stats.ttest_ind(buser10, buser20)"
   ]
  },
  {
   "cell_type": "code",
   "execution_count": 64,
   "metadata": {},
   "outputs": [
    {
     "name": "stdout",
     "output_type": "stream",
     "text": [
      "Ttest_indResult(statistic=0.4683178924471863, pvalue=0.6455058413765576)\n"
     ]
    }
   ],
   "source": [
    "print(t_result)"
   ]
  },
  {
   "cell_type": "code",
   "execution_count": 71,
   "metadata": {},
   "outputs": [],
   "source": [
    "group1 = df[df['buser_num']==10]['jikwon_pay']\n",
    "group2 = df[df['buser_num']==20]['jikwon_pay']\n",
    "group3 = df[df['buser_num']==30]['jikwon_pay']\n",
    "group4 = df[df['buser_num']==40]['jikwon_pay']\n"
   ]
  },
  {
   "cell_type": "code",
   "execution_count": 74,
   "metadata": {},
   "outputs": [
    {
     "data": {
      "text/plain": [
       "{'whiskers': [<matplotlib.lines.Line2D at 0xc8ef208>,\n",
       "  <matplotlib.lines.Line2D at 0xc8ef6a0>,\n",
       "  <matplotlib.lines.Line2D at 0xc8f7fd0>,\n",
       "  <matplotlib.lines.Line2D at 0xc8ff438>,\n",
       "  <matplotlib.lines.Line2D at 0xc908d68>,\n",
       "  <matplotlib.lines.Line2D at 0xcb201d0>,\n",
       "  <matplotlib.lines.Line2D at 0xcb28b00>,\n",
       "  <matplotlib.lines.Line2D at 0xcb28f28>],\n",
       " 'caps': [<matplotlib.lines.Line2D at 0xc8efac8>,\n",
       "  <matplotlib.lines.Line2D at 0xc8efef0>,\n",
       "  <matplotlib.lines.Line2D at 0xc8ff860>,\n",
       "  <matplotlib.lines.Line2D at 0xc8ffc88>,\n",
       "  <matplotlib.lines.Line2D at 0xcb205f8>,\n",
       "  <matplotlib.lines.Line2D at 0xcb20a20>,\n",
       "  <matplotlib.lines.Line2D at 0xcb31390>,\n",
       "  <matplotlib.lines.Line2D at 0xcb317b8>],\n",
       " 'boxes': [<matplotlib.lines.Line2D at 0xc8e77b8>,\n",
       "  <matplotlib.lines.Line2D at 0xc8f7b70>,\n",
       "  <matplotlib.lines.Line2D at 0xc908908>,\n",
       "  <matplotlib.lines.Line2D at 0xcb286a0>],\n",
       " 'medians': [<matplotlib.lines.Line2D at 0xc8f7358>,\n",
       "  <matplotlib.lines.Line2D at 0xc9080f0>,\n",
       "  <matplotlib.lines.Line2D at 0xcb20e48>,\n",
       "  <matplotlib.lines.Line2D at 0xcb31be0>],\n",
       " 'fliers': [<matplotlib.lines.Line2D at 0xc8f7780>,\n",
       "  <matplotlib.lines.Line2D at 0xc908518>,\n",
       "  <matplotlib.lines.Line2D at 0xcb282b0>,\n",
       "  <matplotlib.lines.Line2D at 0xcb39048>],\n",
       " 'means': []}"
      ]
     },
     "execution_count": 74,
     "metadata": {},
     "output_type": "execute_result"
    },
    {
     "data": {
      "image/png": "[encoded data removed]",
      "text/plain": [
       "<Figure size 432x288 with 1 Axes>"
      ]
     },
     "metadata": {},
     "output_type": "display_data"
    }
   ],
   "source": [
    "plt.boxplot([group1,group2, group3, group4])"
   ]
  },
  {
   "cell_type": "code",
   "execution_count": 77,
   "metadata": {},
   "outputs": [],
   "source": [
    "f_sta, pv = stats.f_oneway(group1, group2, group3, group4)"
   ]
  },
  {
   "cell_type": "code",
   "execution_count": 79,
   "metadata": {},
   "outputs": [
    {
     "name": "stdout",
     "output_type": "stream",
     "text": [
      "0.4069011769595527 0.7538628006837494\n"
     ]
    }
   ],
   "source": [
    "print(f_sta, pv)"
   ]
  },
  {
   "cell_type": "code",
   "execution_count": null,
   "metadata": {},
   "outputs": [],
   "source": []
  }
 ],
 "metadata": {
  "kernelspec": {
   "display_name": "Python 3",
   "language": "python",
   "name": "python3"
  },
  "language_info": {
   "codemirror_mode": {
    "name": "ipython",
    "version": 3
   },
   "file_extension": ".py",
   "mimetype": "text/x-python",
   "name": "python",
   "nbconvert_exporter": "python",
   "pygments_lexer": "ipython3",
   "version": "3.6.5"
  }
 },
 "nbformat": 4,
 "nbformat_minor": 2
}
