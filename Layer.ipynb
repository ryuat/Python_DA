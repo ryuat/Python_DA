{
 "cells": [
  {
   "cell_type": "markdown",
   "metadata": {},
   "source": [
    "<b>곱셈 노드를 MulLayer라는 이름으로 생성</b><br>\n",
    "x, y 두 개의 input"
   ]
  },
  {
   "cell_type": "code",
   "execution_count": 24,
   "metadata": {},
   "outputs": [],
   "source": [
    "class MulLayer:\n",
    "    def __init__(self):\n",
    "        self.x = None\n",
    "        self.y = None\n",
    "    \n",
    "    \n",
    "    def forward(self, x, y):\n",
    "        self.x = x\n",
    "        self.y = y\n",
    "        return x * y\n",
    "    \n",
    "    def backward(self, dout): # dout: 상류에서의 미분 값 \n",
    "        dx = dout * self.y\n",
    "        dy = dout * self.x\n",
    "        \n",
    "        return dx, dy"
   ]
  },
  {
   "cell_type": "code",
   "execution_count": 25,
   "metadata": {},
   "outputs": [],
   "source": [
    "apple = 100 # 사과 한 개의 가격\n",
    "apple_count = 2 # 사과의 개수\n",
    "\n",
    "tax = 1.1 # 세금\n",
    "\n",
    "# 계층\n",
    "mul_apple_layer = MulLayer()\n",
    "mul_tax_layer = MulLayer()"
   ]
  },
  {
   "cell_type": "code",
   "execution_count": 26,
   "metadata": {},
   "outputs": [
    {
     "name": "stdout",
     "output_type": "stream",
     "text": [
      "220.00000000000003\n"
     ]
    }
   ],
   "source": [
    "# 순전파\n",
    "apple_price = mul_apple_layer.forward(apple, apple_count)\n",
    "total_price = mul_tax_layer.forward(apple_price, tax)\n",
    "\n",
    "print(total_price)"
   ]
  },
  {
   "cell_type": "code",
   "execution_count": 27,
   "metadata": {},
   "outputs": [
    {
     "name": "stdout",
     "output_type": "stream",
     "text": [
      "2.2 110.00000000000001 200\n"
     ]
    }
   ],
   "source": [
    "#역전파\n",
    "dapple_price, dtax = mul_tax_layer.backward(1)\n",
    "dapple, dcount = mul_apple_layer.backward(dapple_price)\n",
    "print(dapple, dcount, dtax)"
   ]
  },
  {
   "cell_type": "markdown",
   "metadata": {},
   "source": [
    "<b>덧셈 노드를 AddLayer라는 이름으로 생성</b>"
   ]
  },
  {
   "cell_type": "code",
   "execution_count": 33,
   "metadata": {},
   "outputs": [],
   "source": [
    "class AddLayer:\n",
    "    def __init__(self):\n",
    "        pass\n",
    "    \n",
    "    def forward(self, x, y):\n",
    "        return x+y\n",
    "    \n",
    "    def backward(self, dout):\n",
    "        dx = dout\n",
    "        dy = dout\n",
    "        return dx, dy"
   ]
  },
  {
   "cell_type": "markdown",
   "metadata": {},
   "source": [
    "사과의 개수 2개,  <br>\n",
    "사과 가격 100\n",
    "\n",
    "귤 개수 3개 <br>\n",
    "귤 가격 150\n",
    "\n",
    "세금 10%"
   ]
  },
  {
   "cell_type": "code",
   "execution_count": 34,
   "metadata": {},
   "outputs": [],
   "source": [
    "apple_cnt = 2\n",
    "apple = 100\n",
    "\n",
    "orange_cnt = 3\n",
    "orange = 150\n",
    "\n",
    "tax = 1.1"
   ]
  },
  {
   "cell_type": "code",
   "execution_count": 60,
   "metadata": {},
   "outputs": [
    {
     "name": "stdout",
     "output_type": "stream",
     "text": [
      "200 450\n",
      "650\n",
      "715.0000000000001\n"
     ]
    }
   ],
   "source": [
    "# 순전파\n",
    "apple_mul_layer = MulLayer()\n",
    "orange_mul_layer = MulLayer()\n",
    "\n",
    "add_apple_orange_layer = AddLayer()\n",
    "tax_mul_layer = MulLayer()\n",
    "\n",
    "apple_price = apple_mul_layer.forward(apple, apple_cnt)\n",
    "orange_price = orange_mul_layer.forward(orange, orange_cnt)\n",
    "print(apple_price, orange_price)\n",
    "\n",
    "apple_orange_price = add_apple_orange_layer.forward(apple_price, orange_price)\n",
    "print(apple_orange_price)\n",
    "\n",
    "total_price = tax_mul_layer.forward(apple_orange_price, tax)\n",
    "print(total_price)"
   ]
  },
  {
   "cell_type": "code",
   "execution_count": 68,
   "metadata": {},
   "outputs": [
    {
     "name": "stdout",
     "output_type": "stream",
     "text": [
      "1.1 650\n",
      "1.1 1.1\n",
      "2.2 110.00000000000001\n",
      "3.3000000000000003 165.0\n"
     ]
    }
   ],
   "source": [
    "# 역전파\n",
    "d_price = 1 # price 에 대한 price 변화량 1\n",
    "d_apple_orange_price, d_tax = tax_mul_layer.backward(d_price)\n",
    "print(d_apple_orange_price, d_tax )# price를 apple_orange_price로 미분, tax로 미분\n",
    "\n",
    "d_apple_price, d_orange_price = add_apple_orange_layer.backward(d_apple_orange_price)\n",
    "print(d_apple_price, d_orange_price) # price를 apple_price 로 미분\n",
    "\n",
    "d_apple, d_apple_cnt = apple_mul_layer.backward(d_apple_price)\n",
    "print(d_apple, d_apple_cnt) # price를 apple값으로 미분, apple_cnt로 미분\n",
    "\n",
    "d_orange, d_orange_cnt = orange_mul_layer.backward(d_orange_price) \n",
    "print(d_orange, d_orange_cnt) # price를 orange값으로 미분, orange_cnt로 미분"
   ]
  },
  {
   "cell_type": "code",
   "execution_count": null,
   "metadata": {},
   "outputs": [],
   "source": []
  },
  {
   "cell_type": "code",
   "execution_count": null,
   "metadata": {},
   "outputs": [],
   "source": []
  },
  {
   "cell_type": "code",
   "execution_count": null,
   "metadata": {},
   "outputs": [],
   "source": []
  },
  {
   "cell_type": "code",
   "execution_count": null,
   "metadata": {},
   "outputs": [],
   "source": []
  }
 ],
 "metadata": {
  "kernelspec": {
   "display_name": "Python 3",
   "language": "python",
   "name": "python3"
  },
  "language_info": {
   "codemirror_mode": {
    "name": "ipython",
    "version": 3
   },
   "file_extension": ".py",
   "mimetype": "text/x-python",
   "name": "python",
   "nbconvert_exporter": "python",
   "pygments_lexer": "ipython3",
   "version": "3.6.5"
  }
 },
 "nbformat": 4,
 "nbformat_minor": 2
}
