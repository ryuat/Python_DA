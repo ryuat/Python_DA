{
 "cells": [
  {
   "cell_type": "markdown",
   "metadata": {},
   "source": [
    "<h3>모비율 검정</h3>\n",
    "\n",
    "집단의 비율이 어떤 특정한 값과 같은지를 검증.<br>\n",
    "비율 차이 검정 통계량을 바탕으로 귀무가설의 기각여부를 결정."
   ]
  },
  {
   "cell_type": "markdown",
   "metadata": {},
   "source": [
    "<b>1. one-sample</b><br>\n",
    "A회사에는 100명 중에 45명이 흡연을 한다. 국가 통계를 보니 국민 흡연율은 35%라고 한다.<br>\n",
    "국가 통계 국민 흡연률은 35%가 맞는가?\n",
    "<br>\n",
    "귀무가설: 국가 통계 국민 흡연률은 35%가 맞는가?"
   ]
  },
  {
   "cell_type": "code",
   "execution_count": 16,
   "metadata": {},
   "outputs": [],
   "source": [
    "from statsmodels.stats.proportion import proportions_ztest\n",
    "import numpy as np"
   ]
  },
  {
   "cell_type": "code",
   "execution_count": 18,
   "metadata": {},
   "outputs": [
    {
     "name": "stdout",
     "output_type": "stream",
     "text": [
      "2.0100756305184246 0.04442318485000599\n"
     ]
    }
   ],
   "source": [
    "z, p = proportions_ztest(count=45, nobs=100, value=0.35) # 흡연자 수, 표본 수, 모비율\n",
    "print(z, p)"
   ]
  },
  {
   "cell_type": "markdown",
   "metadata": {},
   "source": [
    "<b>p-value가 유의수준 0.05보다 작으므로 귀무가설을 기각한다. </b><br>\n",
    "=> 국민 통계 국민 흡연률은 35%가 아니다.\n",
    "<br><br><br><br>"
   ]
  },
  {
   "cell_type": "markdown",
   "metadata": {},
   "source": [
    "<b>2. two-sample</b><br>\n",
    "A회사 사람들 300명 중 100명이 커피를 마시고, B회사 사람들 400명 중 170명이 커피를 마셨다.<br>\n",
    "A회사의 커피를 마시는 사람의 비율과 B회사의 커피를 마시는 사람의 비율이 같은가?"
   ]
  },
  {
   "cell_type": "code",
   "execution_count": 22,
   "metadata": {},
   "outputs": [
    {
     "name": "stdout",
     "output_type": "stream",
     "text": [
      "-2.4656701201792273 0.013675721698622408\n"
     ]
    }
   ],
   "source": [
    "z, p = proportions_ztest(count=[100,170], nobs=[300,400], value=0) \n",
    "# 각 집단의 흡연자 수, 두 집단의 표본 수, 두 집단 간 모비율의 차\n",
    "print(z, p)"
   ]
  },
  {
   "cell_type": "markdown",
   "metadata": {},
   "source": [
    "<b>p-value가 유의수준 0.05보다 작으므로 귀무가설을 기각한다. </b><br>\n",
    "=> A회사와 B회사의 흡연률에 차이가 있다."
   ]
  }
 ],
 "metadata": {
  "kernelspec": {
   "display_name": "Python 3",
   "language": "python",
   "name": "python3"
  },
  "language_info": {
   "codemirror_mode": {
    "name": "ipython",
    "version": 3
   },
   "file_extension": ".py",
   "mimetype": "text/x-python",
   "name": "python",
   "nbconvert_exporter": "python",
   "pygments_lexer": "ipython3",
   "version": "3.6.5"
  }
 },
 "nbformat": 4,
 "nbformat_minor": 2
}
