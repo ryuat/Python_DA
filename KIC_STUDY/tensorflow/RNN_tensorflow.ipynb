{
 "cells": [
  {
   "cell_type": "code",
   "execution_count": 5,
   "metadata": {},
   "outputs": [],
   "source": [
    "import tensorflow as tf\n",
    "import numpy as np"
   ]
  },
  {
   "cell_type": "code",
   "execution_count": 2,
   "metadata": {},
   "outputs": [],
   "source": [
    "char_set = ['h', 'e', 'l','o']\n",
    "x_one_hot = np.array([[\n",
    "    [1,0,0,0],\n",
    "    [0,1,0,0],\n",
    "    [0,0,1,0],\n",
    "    [0,0,0,1]\n",
    "]])"
   ]
  },
  {
   "cell_type": "code",
   "execution_count": 3,
   "metadata": {},
   "outputs": [
    {
     "name": "stdout",
     "output_type": "stream",
     "text": [
      "(1, 4, 4)\n"
     ]
    }
   ],
   "source": [
    "print(x_one_hot.shape)"
   ]
  },
  {
   "cell_type": "code",
   "execution_count": 4,
   "metadata": {},
   "outputs": [
    {
     "name": "stdout",
     "output_type": "stream",
     "text": [
      "WARNING:tensorflow:From <ipython-input-4-99bbfa78436c>:12: BasicRNNCell.__init__ (from tensorflow.python.ops.rnn_cell_impl) is deprecated and will be removed in a future version.\n",
      "Instructions for updating:\n",
      "This class is equivalent as tf.keras.layers.SimpleRNNCell, and will be replaced by that in Tensorflow 2.0.\n",
      "x_for_fc:  Tensor(\"Reshape:0\", shape=(4, 8), dtype=float32)\n"
     ]
    }
   ],
   "source": [
    "y_data = [[1,2,2,3]] # hell --> ello\n",
    "num_class = 4 \n",
    "input_dim = 4\n",
    "hidden_size = 8 # 4이상 \n",
    "batch_size = 1\n",
    "sequence_length = 4 # \n",
    "\n",
    "x = tf.placeholder(tf.float32, [None, sequence_length, input_dim])\n",
    "y = tf.placeholder(tf.int32, [None, sequence_length])\n",
    "\n",
    "\n",
    "cell = tf.contrib.rnn.BasicRNNCell(num_units=hidden_size)\n",
    "#cell = tf.nn.rnn_cell.BasicLSTMCell()\n",
    "initial_state = cell.zero_state(batch_size, tf.float32)\n",
    "output, _stats  = tf.nn.dynamic_rnn(cell, x, initial_state=initial_state, dtype=tf.float32)\n",
    "x_for_fc = tf.reshape(output, [-1, hidden_size])\n",
    "print(\"x_for_fc: \" , x_for_fc) # shape: (4, 8)"
   ]
  },
  {
   "cell_type": "code",
   "execution_count": 6,
   "metadata": {},
   "outputs": [
    {
     "name": "stdout",
     "output_type": "stream",
     "text": [
      "output:  Tensor(\"fully_connected/BiasAdd:0\", shape=(4, 4), dtype=float32)\n"
     ]
    }
   ],
   "source": [
    "output = tf.contrib.layers.fully_connected(inputs=x_for_fc, num_outputs=num_class, activation_fn=None)\n",
    "print('output: ', output)"
   ]
  },
  {
   "cell_type": "code",
   "execution_count": 7,
   "metadata": {},
   "outputs": [],
   "source": [
    "output = tf.reshape(output, [batch_size, sequence_length, num_class]) # shape: (1, 4, 4)"
   ]
  },
  {
   "cell_type": "code",
   "execution_count": 8,
   "metadata": {},
   "outputs": [
    {
     "name": "stdout",
     "output_type": "stream",
     "text": [
      "Tensor(\"Reshape_1:0\", shape=(1, 4, 4), dtype=float32)\n"
     ]
    }
   ],
   "source": [
    "print(output)"
   ]
  },
  {
   "cell_type": "code",
   "execution_count": 13,
   "metadata": {},
   "outputs": [],
   "source": [
    "weights = tf.ones([batch_size, sequence_length])\n",
    "sequence_loss = tf.contrib.seq2seq.sequence_loss(logits=output, targets=y, weights=weights)\n",
    "loss = tf.reduce_mean(sequence_loss)"
   ]
  },
  {
   "cell_type": "code",
   "execution_count": 18,
   "metadata": {},
   "outputs": [],
   "source": [
    "train = tf.train.AdamOptimizer(0.01).minimize(loss)"
   ]
  },
  {
   "cell_type": "code",
   "execution_count": 19,
   "metadata": {},
   "outputs": [],
   "source": [
    "pred = tf.argmax(output, 2)"
   ]
  },
  {
   "cell_type": "code",
   "execution_count": 21,
   "metadata": {},
   "outputs": [
    {
     "name": "stdout",
     "output_type": "stream",
     "text": [
      "0 번째 loss:  1.5352409  pred:  [[0 2 1 0]]  true_y:  [[1, 2, 2, 3]]\n",
      "1 번째 loss:  1.4467404  pred:  [[0 2 1 3]]  true_y:  [[1, 2, 2, 3]]\n",
      "2 번째 loss:  1.3638092  pred:  [[0 2 1 3]]  true_y:  [[1, 2, 2, 3]]\n",
      "3 번째 loss:  1.2861527  pred:  [[3 2 1 3]]  true_y:  [[1, 2, 2, 3]]\n",
      "4 번째 loss:  1.2134674  pred:  [[3 2 2 3]]  true_y:  [[1, 2, 2, 3]]\n",
      "5 번째 loss:  1.1453607  pred:  [[3 2 2 3]]  true_y:  [[1, 2, 2, 3]]\n",
      "6 번째 loss:  1.0817266  pred:  [[3 2 2 3]]  true_y:  [[1, 2, 2, 3]]\n",
      "7 번째 loss:  1.0225126  pred:  [[3 2 2 3]]  true_y:  [[1, 2, 2, 3]]\n",
      "8 번째 loss:  0.9674516  pred:  [[3 2 2 2]]  true_y:  [[1, 2, 2, 3]]\n",
      "9 번째 loss:  0.91604125  pred:  [[1 2 2 2]]  true_y:  [[1, 2, 2, 3]]\n",
      "10 번째 loss:  0.86769825  pred:  [[1 2 2 3]]  true_y:  [[1, 2, 2, 3]]\n",
      "11 번째 loss:  0.82188064  pred:  [[1 2 2 3]]  true_y:  [[1, 2, 2, 3]]\n",
      "12 번째 loss:  0.7781335  pred:  [[1 2 2 3]]  true_y:  [[1, 2, 2, 3]]\n",
      "13 번째 loss:  0.73613405  pred:  [[1 2 2 3]]  true_y:  [[1, 2, 2, 3]]\n",
      "14 번째 loss:  0.69571984  pred:  [[1 2 2 3]]  true_y:  [[1, 2, 2, 3]]\n",
      "15 번째 loss:  0.6568533  pred:  [[1 2 2 3]]  true_y:  [[1, 2, 2, 3]]\n",
      "16 번째 loss:  0.619562  pred:  [[1 2 2 3]]  true_y:  [[1, 2, 2, 3]]\n",
      "17 번째 loss:  0.5838894  pred:  [[1 2 2 3]]  true_y:  [[1, 2, 2, 3]]\n",
      "18 번째 loss:  0.5498622  pred:  [[1 2 2 3]]  true_y:  [[1, 2, 2, 3]]\n",
      "19 번째 loss:  0.5174688  pred:  [[1 2 2 3]]  true_y:  [[1, 2, 2, 3]]\n",
      "20 번째 loss:  0.4866505  pred:  [[1 2 2 3]]  true_y:  [[1, 2, 2, 3]]\n",
      "21 번째 loss:  0.4573086  pred:  [[1 2 2 3]]  true_y:  [[1, 2, 2, 3]]\n",
      "22 번째 loss:  0.42932367  pred:  [[1 2 2 3]]  true_y:  [[1, 2, 2, 3]]\n",
      "23 번째 loss:  0.40257657  pred:  [[1 2 2 3]]  true_y:  [[1, 2, 2, 3]]\n",
      "24 번째 loss:  0.37696576  pred:  [[1 2 2 3]]  true_y:  [[1, 2, 2, 3]]\n",
      "25 번째 loss:  0.35241896  pred:  [[1 2 2 3]]  true_y:  [[1, 2, 2, 3]]\n",
      "26 번째 loss:  0.32889876  pred:  [[1 2 2 3]]  true_y:  [[1, 2, 2, 3]]\n",
      "27 번째 loss:  0.30640203  pred:  [[1 2 2 3]]  true_y:  [[1, 2, 2, 3]]\n",
      "28 번째 loss:  0.28495306  pred:  [[1 2 2 3]]  true_y:  [[1, 2, 2, 3]]\n",
      "29 번째 loss:  0.2645931  pred:  [[1 2 2 3]]  true_y:  [[1, 2, 2, 3]]\n",
      "30 번째 loss:  0.24536842  pred:  [[1 2 2 3]]  true_y:  [[1, 2, 2, 3]]\n",
      "31 번째 loss:  0.22731973  pred:  [[1 2 2 3]]  true_y:  [[1, 2, 2, 3]]\n",
      "32 번째 loss:  0.2104727  pred:  [[1 2 2 3]]  true_y:  [[1, 2, 2, 3]]\n",
      "33 번째 loss:  0.19483311  pred:  [[1 2 2 3]]  true_y:  [[1, 2, 2, 3]]\n",
      "34 번째 loss:  0.18038464  pred:  [[1 2 2 3]]  true_y:  [[1, 2, 2, 3]]\n",
      "35 번째 loss:  0.16709019  pred:  [[1 2 2 3]]  true_y:  [[1, 2, 2, 3]]\n",
      "36 번째 loss:  0.15489581  pred:  [[1 2 2 3]]  true_y:  [[1, 2, 2, 3]]\n",
      "37 번째 loss:  0.14373527  pred:  [[1 2 2 3]]  true_y:  [[1, 2, 2, 3]]\n",
      "38 번째 loss:  0.1335355  pred:  [[1 2 2 3]]  true_y:  [[1, 2, 2, 3]]\n",
      "39 번째 loss:  0.12422098  pred:  [[1 2 2 3]]  true_y:  [[1, 2, 2, 3]]\n",
      "40 번째 loss:  0.1157168  pred:  [[1 2 2 3]]  true_y:  [[1, 2, 2, 3]]\n",
      "41 번째 loss:  0.10795161  pred:  [[1 2 2 3]]  true_y:  [[1, 2, 2, 3]]\n",
      "42 번째 loss:  0.10085863  pred:  [[1 2 2 3]]  true_y:  [[1, 2, 2, 3]]\n",
      "43 번째 loss:  0.09437628  pred:  [[1 2 2 3]]  true_y:  [[1, 2, 2, 3]]\n",
      "44 번째 loss:  0.08844817  pred:  [[1 2 2 3]]  true_y:  [[1, 2, 2, 3]]\n",
      "45 번째 loss:  0.083023146  pred:  [[1 2 2 3]]  true_y:  [[1, 2, 2, 3]]\n",
      "46 번째 loss:  0.078054994  pred:  [[1 2 2 3]]  true_y:  [[1, 2, 2, 3]]\n",
      "47 번째 loss:  0.07350162  pred:  [[1 2 2 3]]  true_y:  [[1, 2, 2, 3]]\n",
      "48 번째 loss:  0.06932503  pred:  [[1 2 2 3]]  true_y:  [[1, 2, 2, 3]]\n",
      "49 번째 loss:  0.06549087  pred:  [[1 2 2 3]]  true_y:  [[1, 2, 2, 3]]\n"
     ]
    }
   ],
   "source": [
    "with tf.Session() as sess:\n",
    "    sess.run(tf.global_variables_initializer())\n",
    "    \n",
    "    for i in range(50):\n",
    "        cur_loss, _ = sess.run([loss, train], feed_dict = {x:x_one_hot, y:y_data})\n",
    "        \n",
    "        result = sess.run(pred, feed_dict={x:x_one_hot, y:y_data})\n",
    "        print(i,\"번째 loss: \", cur_loss, ' pred: ', result, ' true_y: ', y_data, ' chars: ', char_set[])"
   ]
  },
  {
   "cell_type": "code",
   "execution_count": 39,
   "metadata": {},
   "outputs": [],
   "source": [
    "str_result = [char_set[c] for c in result[0]]"
   ]
  },
  {
   "cell_type": "code",
   "execution_count": 45,
   "metadata": {},
   "outputs": [
    {
     "name": "stdout",
     "output_type": "stream",
     "text": [
      "ello\n"
     ]
    }
   ],
   "source": [
    "print(\"\".join(str_result))"
   ]
  }
 ],
 "metadata": {
  "kernelspec": {
   "display_name": "Python 3",
   "language": "python",
   "name": "python3"
  },
  "language_info": {
   "codemirror_mode": {
    "name": "ipython",
    "version": 3
   },
   "file_extension": ".py",
   "mimetype": "text/x-python",
   "name": "python",
   "nbconvert_exporter": "python",
   "pygments_lexer": "ipython3",
   "version": "3.6.5"
  }
 },
 "nbformat": 4,
 "nbformat_minor": 2
}
