{
 "cells": [
  {
   "cell_type": "markdown",
   "metadata": {},
   "source": [
    "<b>Softmax 수식 연습</b>"
   ]
  },
  {
   "cell_type": "code",
   "execution_count": 56,
   "metadata": {},
   "outputs": [],
   "source": [
    "import numpy as np"
   ]
  },
  {
   "cell_type": "code",
   "execution_count": 81,
   "metadata": {},
   "outputs": [],
   "source": [
    "def softfunc(x):\n",
    "    x_max = np.max(x, axis=1).reshape(len(x),1)\n",
    "    x = x - x_max\n",
    "    return np.exp(x)/np.sum(np.exp(x), axis=1).reshape(len(x),1)"
   ]
  },
  {
   "cell_type": "code",
   "execution_count": 58,
   "metadata": {},
   "outputs": [],
   "source": [
    "data = np.array([[0.3, 2.9, 4.0],[1000,1001,1002]])"
   ]
  },
  {
   "cell_type": "code",
   "execution_count": 60,
   "metadata": {},
   "outputs": [
    {
     "data": {
      "text/plain": [
       "array([[0.01821127, 0.24519181, 0.73659691],\n",
       "       [0.09003057, 0.24472847, 0.66524096]])"
      ]
     },
     "execution_count": 60,
     "metadata": {},
     "output_type": "execute_result"
    }
   ],
   "source": [
    "softfunc(data)"
   ]
  },
  {
   "cell_type": "markdown",
   "metadata": {},
   "source": [
    "<b>tensorflow softmax 함수 활용</b>"
   ]
  },
  {
   "cell_type": "code",
   "execution_count": 196,
   "metadata": {},
   "outputs": [],
   "source": [
    "xdata = [[1,2,1,1],[2,1,3,2],[3,1,3,4],[4,1,5,5],\n",
    "         [1,7,5,5],[1,2,5,6],[1,6,6,6],[1,7,7,7]]\n",
    "# ydata = [[2],[2],[2],[1],[1],[1],[0],[0]]\n",
    "\n",
    "ydata = [[0,0,1],[0,0,1],[0,0,1],  # 2를 [0,0,1]표현함 \n",
    "         [0,1,0],[0,1,0],[0,1,0],  # 1을 [0,1,0]으로표현\n",
    "         [1,0,0],[1,0,0]  # 0을 [0,1,0]으로표현       \n",
    "        ]"
   ]
  },
  {
   "cell_type": "code",
   "execution_count": 197,
   "metadata": {},
   "outputs": [
    {
     "data": {
      "text/plain": [
       "(8, 3)"
      ]
     },
     "execution_count": 197,
     "metadata": {},
     "output_type": "execute_result"
    }
   ],
   "source": [
    "np.array(ydata).shape"
   ]
  },
  {
   "cell_type": "code",
   "execution_count": 198,
   "metadata": {},
   "outputs": [
    {
     "data": {
      "text/plain": [
       "(8, 4)"
      ]
     },
     "execution_count": 198,
     "metadata": {},
     "output_type": "execute_result"
    }
   ],
   "source": [
    "np.array(xdata).shape"
   ]
  },
  {
   "cell_type": "code",
   "execution_count": 199,
   "metadata": {},
   "outputs": [
    {
     "name": "stdout",
     "output_type": "stream",
     "text": [
      "[1. 1. 1. 1. 1. 1. 1. 1.]\n"
     ]
    },
    {
     "data": {
      "text/plain": [
       "array([[0.1748777 , 0.47536689, 0.1748777 , 0.1748777 ],\n",
       "       [0.19661193, 0.07232949, 0.53444665, 0.19661193],\n",
       "       [0.20603191, 0.02788339, 0.20603191, 0.56005279],\n",
       "       [0.15416989, 0.00767567, 0.41907722, 0.41907722],\n",
       "       [0.00194695, 0.78545382, 0.10629962, 0.10629962],\n",
       "       [0.00483724, 0.01314897, 0.26410418, 0.71790961],\n",
       "       [0.00224095, 0.33258635, 0.33258635, 0.33258635],\n",
       "       [0.00082557, 0.33305814, 0.33305814, 0.33305814]])"
      ]
     },
     "execution_count": 199,
     "metadata": {},
     "output_type": "execute_result"
    }
   ],
   "source": [
    "print(np.sum(softfunc(xdata) , axis=1))\n",
    "softfunc(xdata)"
   ]
  },
  {
   "cell_type": "code",
   "execution_count": 200,
   "metadata": {},
   "outputs": [
    {
     "data": {
      "text/plain": [
       "8"
      ]
     },
     "execution_count": 200,
     "metadata": {},
     "output_type": "execute_result"
    }
   ],
   "source": [
    "len(xdata)"
   ]
  },
  {
   "cell_type": "code",
   "execution_count": 201,
   "metadata": {},
   "outputs": [
    {
     "data": {
      "text/plain": [
       "array([[2],\n",
       "       [3],\n",
       "       [4],\n",
       "       [5],\n",
       "       [7],\n",
       "       [6],\n",
       "       [6],\n",
       "       [7]])"
      ]
     },
     "execution_count": 201,
     "metadata": {},
     "output_type": "execute_result"
    }
   ],
   "source": [
    "np.max(xdata , axis=1).reshape(len(xdata),1)"
   ]
  },
  {
   "cell_type": "code",
   "execution_count": 202,
   "metadata": {},
   "outputs": [],
   "source": [
    "import tensorflow as tf"
   ]
  },
  {
   "cell_type": "code",
   "execution_count": 204,
   "metadata": {},
   "outputs": [],
   "source": [
    "t_x = np.array([[0,1,0]])\n",
    "t_y = np.array([0.2,0.7,0.1])"
   ]
  },
  {
   "cell_type": "code",
   "execution_count": 205,
   "metadata": {},
   "outputs": [
    {
     "data": {
      "text/plain": [
       "array([-0.35667494])"
      ]
     },
     "execution_count": 205,
     "metadata": {},
     "output_type": "execute_result"
    }
   ],
   "source": [
    "np.sum(t_x*np.log(t_y), axis =1 )"
   ]
  },
  {
   "cell_type": "code",
   "execution_count": 206,
   "metadata": {},
   "outputs": [
    {
     "data": {
      "text/plain": [
       "[[1, 2, 1, 1],\n",
       " [2, 1, 3, 2],\n",
       " [3, 1, 3, 4],\n",
       " [4, 1, 5, 5],\n",
       " [1, 7, 5, 5],\n",
       " [1, 2, 5, 6],\n",
       " [1, 6, 6, 6],\n",
       " [1, 7, 7, 7]]"
      ]
     },
     "execution_count": 206,
     "metadata": {},
     "output_type": "execute_result"
    }
   ],
   "source": [
    "xdata"
   ]
  },
  {
   "cell_type": "code",
   "execution_count": 207,
   "metadata": {},
   "outputs": [],
   "source": [
    "x = tf.placeholder(tf.float32, [None, 4])\n",
    "y = tf.placeholder(tf.float32, [None, 3])\n",
    "w = tf.Variable(tf.random_normal([4,3]))\n",
    "b = tf.Variable(tf.random_normal([3]))\n",
    "\n",
    "#model = softfunc(tf.matmul(x,w)+b)\n",
    "model = tf.nn.softmax(tf.matmul(x,w)+b) # \n",
    "cost = tf.reduce_mean(-tf.reduce_sum(y*tf.log(model), axis=1))\n",
    "\n",
    "optimizer = tf.train.GradientDescentOptimizer(0.1).minimize(cost)"
   ]
  },
  {
   "cell_type": "code",
   "execution_count": 208,
   "metadata": {},
   "outputs": [
    {
     "name": "stdout",
     "output_type": "stream",
     "text": [
      "9.086694\n",
      "0.22594538\n",
      "0.14879459\n",
      "0.110459566\n",
      "0.08762412\n",
      "0.07252\n",
      "0.06181054\n",
      "0.053831004\n",
      "0.047660545\n",
      "0.042749204\n"
     ]
    }
   ],
   "source": [
    "with tf.Session() as sess:\n",
    "    sess.run(tf.global_variables_initializer())\n",
    "\n",
    "    for step in range(10000):\n",
    "        _, cur_cost= sess.run([optimizer, cost], feed_dict = {x:xdata , y:ydata})\n",
    "        if step % 1000 == 0:\n",
    "            print(cur_cost)\n",
    "#             print(sess.run(model))"
   ]
  }
 ],
 "metadata": {
  "kernelspec": {
   "display_name": "Python 3",
   "language": "python",
   "name": "python3"
  },
  "language_info": {
   "codemirror_mode": {
    "name": "ipython",
    "version": 3
   },
   "file_extension": ".py",
   "mimetype": "text/x-python",
   "name": "python",
   "nbconvert_exporter": "python",
   "pygments_lexer": "ipython3",
   "version": "3.6.5"
  }
 },
 "nbformat": 4,
 "nbformat_minor": 2
}
