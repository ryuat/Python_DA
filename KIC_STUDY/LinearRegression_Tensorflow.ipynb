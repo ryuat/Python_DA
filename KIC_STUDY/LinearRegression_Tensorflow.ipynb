{
 "cells": [
  {
   "cell_type": "code",
   "execution_count": 17,
   "metadata": {},
   "outputs": [],
   "source": [
    "import numpy as np"
   ]
  },
  {
   "cell_type": "code",
   "execution_count": 18,
   "metadata": {},
   "outputs": [
    {
     "data": {
      "text/plain": [
       "12.2"
      ]
     },
     "execution_count": 18,
     "metadata": {},
     "output_type": "execute_result"
    }
   ],
   "source": [
    "pred_label = np.array([11,5,5,4,5]) # 모델을 통해 예측한 값 가정\n",
    "real_label = np.array([10,9,3,2,11]) # 실제 값\n",
    "\n",
    "cost = np.sum((pred_label - real_label)**2)/len(pred_label)\n",
    "cost"
   ]
  },
  {
   "cell_type": "code",
   "execution_count": 51,
   "metadata": {},
   "outputs": [],
   "source": [
    "import tensorflow as tf\n",
    "import matplotlib.pyplot as plt"
   ]
  },
  {
   "cell_type": "markdown",
   "metadata": {},
   "source": [
    "<b>1. 1개의 feature를 갖는 회귀식의 cost function 그리기 <b>"
   ]
  },
  {
   "cell_type": "code",
   "execution_count": 53,
   "metadata": {},
   "outputs": [
    {
     "name": "stdout",
     "output_type": "stream",
     "text": [
      "[<matplotlib.lines.Line2D object at 0x000000000F874240>]\n"
     ]
    },
    {
     "data": {
      "image/png": "[encoded data removed]",
      "text/plain": [
       "<Figure size 432x288 with 1 Axes>"
      ]
     },
     "metadata": {},
     "output_type": "display_data"
    }
   ],
   "source": [
    "x = [1,2,3] # data  3개의 데이터\n",
    "y = [1,2,3] # label 3개의 데이터에 대한 label\n",
    "\n",
    "w = tf.placeholder(tf.float32)\n",
    "b = 0 # 편의상 bias = 0\n",
    "\n",
    "hypothesis = w*x + b # Linear Model\n",
    "\n",
    "cost = tf.reduce_mean(tf.square(hypothesis-y))\n",
    "\n",
    "with tf.Session() as sess:\n",
    "    sess.run(tf.global_variables_initializer())\n",
    "    w_val = []\n",
    "    c_val = []\n",
    "    for i in range(-30, 50):\n",
    "        feed_w = i * 0.1\n",
    "        cur_w, cur_cost = sess.run([w, cost], feed_dict={w:feed_w})\n",
    "        \n",
    "        w_val.append(cur_w)\n",
    "        c_val.append(cur_cost)\n",
    "        #print(\"w: \", cur_w , \", cost: \", cur_cost)\n",
    "            \n",
    "\n",
    "print(plt.plot(w_val,c_val))"
   ]
  },
  {
   "cell_type": "markdown",
   "metadata": {},
   "source": [
    "<b>2. 그레디언트 디센트</b>"
   ]
  },
  {
   "cell_type": "code",
   "execution_count": 89,
   "metadata": {},
   "outputs": [
    {
     "name": "stdout",
     "output_type": "stream",
     "text": [
      "w: [-0.9452598] , cost: 19.429983\n",
      "w: [-0.85448104] , cost: 17.658833\n",
      "w: [-0.7679386] , cost: 16.049133\n",
      "w: [-0.6854348] , cost: 14.586166\n",
      "w: [-0.6067812] , cost: 13.2565565\n",
      "w: [-0.53179806] , cost: 12.048146\n",
      "w: [-0.46031415] , cost: 10.949891\n",
      "w: [-0.39216617] , cost: 9.951747\n",
      "w: [-0.32719842] , cost: 9.04459\n",
      "w: [-0.26526248] , cost: 8.220126\n",
      "w: [-0.2062169] , cost: 7.470816\n",
      "w: [-0.14992678] , cost: 6.78981\n",
      "w: [-0.09626353] , cost: 6.1708813\n",
      "w: [-0.04510456] , cost: 5.6083703\n",
      "w: [0.00366699] , cost: 5.0971365\n",
      "w: [0.05016252] , cost: 4.632504\n",
      "w: [0.09448827] , cost: 4.2102256\n",
      "w: [0.13674548] , cost: 3.82644\n",
      "w: [0.1770307] , cost: 3.4776394\n",
      "w: [0.21543592] , cost: 3.1606328\n",
      "w: [0.2520489] , cost: 2.8725235\n",
      "w: [0.2869533] , cost: 2.6106775\n",
      "w: [0.32022882] , cost: 2.3726995\n",
      "w: [0.35195148] , cost: 2.1564147\n",
      "w: [0.38219374] , cost: 1.9598455\n",
      "w: [0.4110247] , cost: 1.7811947\n",
      "w: [0.4385102] , cost: 1.6188289\n",
      "w: [0.46471307] , cost: 1.4712635\n",
      "w: [0.48969314] , cost: 1.3371497\n",
      "w: [0.5135075] , cost: 1.2152611\n",
      "w: [0.5362105] , cost: 1.1044832\n",
      "w: [0.557854] , cost: 1.0038034\n",
      "w: [0.57848746] , cost: 0.91230106\n",
      "w: [0.59815806] , cost: 0.82913977\n",
      "w: [0.6169107] , cost: 0.7535591\n",
      "w: [0.6347882] , cost: 0.6848679\n",
      "w: [0.65183145] , cost: 0.6224384\n",
      "w: [0.6680793] , cost: 0.5656996\n",
      "w: [0.68356895] , cost: 0.514133\n",
      "w: [0.69833577] , cost: 0.4672668\n",
      "w: [0.71241343] , cost: 0.4246727\n",
      "w: [0.72583413] , cost: 0.38596144\n",
      "w: [0.73862857] , cost: 0.35077897\n",
      "w: [0.7508259] , cost: 0.3188035\n",
      "w: [0.76245403] , cost: 0.2897428\n",
      "w: [0.7735395] , cost: 0.2633311\n",
      "w: [0.7841076] , cost: 0.23932707\n",
      "w: [0.7941826] , cost: 0.21751112\n",
      "w: [0.8037874] , cost: 0.19768374\n",
      "w: [0.812944] , cost: 0.17966379\n",
      "w: [0.8216733] , cost: 0.1632864\n",
      "w: [0.8299952] , cost: 0.14840202\n",
      "w: [0.8379288] , cost: 0.13487424\n",
      "w: [0.8454921] , cost: 0.12257972\n",
      "w: [0.8527025] , cost: 0.11140585\n",
      "w: [0.8595764] , cost: 0.10125062\n",
      "w: [0.8661295] , cost: 0.09202102\n",
      "w: [0.8723768] , cost: 0.08363273\n",
      "w: [0.87833256] , cost: 0.07600921\n",
      "w: [0.8840104] , cost: 0.06908053\n",
      "w: [0.88942325] , cost: 0.06278342\n",
      "w: [0.8945835] , cost: 0.057060376\n",
      "w: [0.89950293] , cost: 0.051858943\n",
      "w: [0.9041928] , cost: 0.047131762\n",
      "w: [0.9086638] , cost: 0.042835444\n",
      "w: [0.91292614] , cost: 0.038930718\n",
      "w: [0.91698956] , cost: 0.035382014\n",
      "w: [0.9208634] , cost: 0.03215675\n",
      "w: [0.92455643] , cost: 0.029225482\n",
      "w: [0.92807716] , cost: 0.026561424\n",
      "w: [0.93143356] , cost: 0.024140185\n",
      "w: [0.9346333] , cost: 0.021939682\n",
      "w: [0.93768376] , cost: 0.019939741\n",
      "w: [0.9405919] , cost: 0.018122138\n",
      "w: [0.94336426] , cost: 0.016470179\n",
      "w: [0.94600725] , cost: 0.014968817\n",
      "w: [0.9485269] , cost: 0.013604346\n",
      "w: [0.950929] , cost: 0.012364226\n",
      "w: [0.95321894] , cost: 0.011237162\n",
      "w: [0.9554021] , cost: 0.010212851\n",
      "w: [0.9574833] , cost: 0.009281888\n",
      "w: [0.9594674] , cost: 0.008435796\n",
      "w: [0.9613589] , cost: 0.007666824\n",
      "w: [0.9631622] , cost: 0.0069679692\n",
      "w: [0.9648813] , cost: 0.0063327816\n",
      "w: [0.9665202] , cost: 0.005755516\n",
      "w: [0.9680826] , cost: 0.005230864\n",
      "w: [0.96957207] , cost: 0.0047540306\n",
      "w: [0.970992] , cost: 0.004320676\n",
      "w: [0.9723457] , cost: 0.003926828\n",
      "w: [0.97363627] , cost: 0.0035688856\n",
      "w: [0.97486657] , cost: 0.003243543\n",
      "w: [0.97603947] , cost: 0.0029478865\n",
      "w: [0.97715765] , cost: 0.0026791634\n",
      "w: [0.9782236] , cost: 0.002434937\n",
      "w: [0.9792399] , cost: 0.0022129805\n",
      "w: [0.9802087] , cost: 0.0020112542\n",
      "w: [0.98113227] , cost: 0.0018279111\n",
      "w: [0.98201275] , cost: 0.0016612926\n",
      "w: [0.98285216] , cost: 0.0015098589\n"
     ]
    }
   ],
   "source": [
    "x = tf.placeholder(tf.float32)\n",
    "y = tf.placeholder(tf.float32)\n",
    "w = tf.Variable(tf.random_normal([1]))\n",
    "b = 0\n",
    "\n",
    "hypthesis = w * x + b\n",
    "\n",
    "cost = tf.reduce_mean(tf.square(hypthesis - y))\n",
    "\n",
    "learning_rate = 0.01\n",
    "gradient = tf.reduce_mean((w * x - y)*x)\n",
    "next_w = w - learning_rate * gradient\n",
    "train = w.assign(next_w)\n",
    "#위 네 줄을 한 번에\n",
    "# optimizer = tf.train.GradientDescentOptimizer(learning_rate=0.01)\n",
    "# train = optimizer.minimize(cost)\n",
    "\n",
    "with tf.Session() as sess:\n",
    "    sess.run(tf.global_variables_initializer())\n",
    "    \n",
    "    for step in range(100):\n",
    "        _, cur_w, cur_cost= sess.run([train, w, cost], feed_dict={x:[1.,2.,3.], y:[1.,2.,3.]})\n",
    "        \n",
    "        print(\"w:\", cur_w, \", cost:\", cur_cost)\n",
    "    "
   ]
  }
 ],
 "metadata": {
  "kernelspec": {
   "display_name": "Python 3",
   "language": "python",
   "name": "python3"
  },
  "language_info": {
   "codemirror_mode": {
    "name": "ipython",
    "version": 3
   },
   "file_extension": ".py",
   "mimetype": "text/x-python",
   "name": "python",
   "nbconvert_exporter": "python",
   "pygments_lexer": "ipython3",
   "version": "3.6.5"
  }
 },
 "nbformat": 4,
 "nbformat_minor": 2
}
