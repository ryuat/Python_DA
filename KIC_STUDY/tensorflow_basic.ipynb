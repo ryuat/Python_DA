{
 "cells": [
  {
   "cell_type": "markdown",
   "metadata": {},
   "source": [
    "<h1>Tensorflow basic</h1>\n",
    "<ul>\n",
    "    <li>1. Placeholder</li>\n",
    "    <li>2. Variable</li>\n",
    "    <li>3. Tensor Board</li>\n",
    "</ul>"
   ]
  },
  {
   "cell_type": "markdown",
   "metadata": {},
   "source": [
    "<h3>1. Placeholder 이해하기 </h3>"
   ]
  },
  {
   "cell_type": "code",
   "execution_count": 2,
   "metadata": {},
   "outputs": [
    {
     "name": "stderr",
     "output_type": "stream",
     "text": [
      "C:\\Users\\kitcoop\\Anaconda3\\envs\\test\\lib\\site-packages\\h5py\\__init__.py:36: FutureWarning: Conversion of the second argument of issubdtype from `float` to `np.floating` is deprecated. In future, it will be treated as `np.float64 == np.dtype(float).type`.\n",
      "  from ._conv import register_converters as _register_converters\n"
     ]
    }
   ],
   "source": [
    "import numpy as np\n",
    "import tensorflow as tf"
   ]
  },
  {
   "cell_type": "code",
   "execution_count": 5,
   "metadata": {},
   "outputs": [
    {
     "name": "stdout",
     "output_type": "stream",
     "text": [
      "[[10.329745 10.921095 10.208966]\n",
      " [10.375683 10.791717 10.820864]\n",
      " [10.162183 10.719334 10.503665]]\n"
     ]
    }
   ],
   "source": [
    "ph = tf.placeholder(dtype=tf.float32, shape=[3,3])\n",
    "y = tf.add(ph, 10.)\n",
    "\n",
    "with tf.Session() as sess:\n",
    "    tand_arr = np.random.rand(3,3)\n",
    "    print(sess.run(y, feed_dict={ph:tand_arr}))"
   ]
  },
  {
   "cell_type": "code",
   "execution_count": 8,
   "metadata": {},
   "outputs": [],
   "source": [
    "v1 = 3; v2 = 4; v3 = 5;"
   ]
  },
  {
   "cell_type": "code",
   "execution_count": 10,
   "metadata": {},
   "outputs": [
    {
     "name": "stdout",
     "output_type": "stream",
     "text": [
      "Tensor(\"Placeholder_8:0\", dtype=int32)\n",
      "Tensor(\"Placeholder_9:0\", dtype=int32)\n"
     ]
    }
   ],
   "source": [
    "ph1 = tf.placeholder(dtype=tf.int32)\n",
    "ph2 = tf.placeholder(tf.int32)\n",
    "ph3 = tf.placeholder(tf.int32)\n",
    "\n",
    "print(ph1)\n",
    "print(ph2)"
   ]
  },
  {
   "cell_type": "code",
   "execution_count": 12,
   "metadata": {},
   "outputs": [
    {
     "name": "stdout",
     "output_type": "stream",
     "text": [
      "23\n"
     ]
    }
   ],
   "source": [
    "result_value = ph1 + ph2 * ph3\n",
    "with tf.Session() as sess:\n",
    "    fdict = {ph1:v1, ph2:v2, ph3:v3}\n",
    "    result = sess.run(result_value, feed_dict=fdict)\n",
    "    print(result)"
   ]
  },
  {
   "cell_type": "code",
   "execution_count": 13,
   "metadata": {},
   "outputs": [],
   "source": [
    "arr1 = [[1,2,3],[4,5,6],[7,8,9]]\n",
    "arr2 = [1,2,3]\n",
    "\n",
    "ph_arr1 = tf.placeholder(dtype=tf.float32)\n",
    "ph_arr2 = tf.placeholder(dtype=tf.float32)\n",
    "fdict = {ph_arr1:arr1, ph_arr2:arr2}\n",
    "res = ph_arr1 * ph_arr2 "
   ]
  },
  {
   "cell_type": "code",
   "execution_count": 15,
   "metadata": {},
   "outputs": [
    {
     "name": "stdout",
     "output_type": "stream",
     "text": [
      "[[ 1.  4.  9.]\n",
      " [ 4. 10. 18.]\n",
      " [ 7. 16. 27.]]\n"
     ]
    }
   ],
   "source": [
    "with tf.Session() as sess:\n",
    "    result2 = sess.run(res, feed_dict = fdict)\n",
    "    print(result2)"
   ]
  },
  {
   "cell_type": "code",
   "execution_count": 19,
   "metadata": {},
   "outputs": [],
   "source": [
    "a = tf.placeholder(dtype=tf.int32, shape=[None]) # 1차원 벡터 받겠다.(n개)\n",
    "b = 10\n",
    "c = a * 10\n",
    "\n",
    "with tf.Session() as sess:\n",
    "    rr = sess.run(c, feed_dict={a:[1,2,3,4,5]})"
   ]
  },
  {
   "cell_type": "code",
   "execution_count": 31,
   "metadata": {},
   "outputs": [
    {
     "name": "stdout",
     "output_type": "stream",
     "text": [
      "[3.0, 4.0]\n",
      "(3.0, 4.0)\n"
     ]
    }
   ],
   "source": [
    "node1 = tf.constant(3.0, tf.float32)\n",
    "node2 = tf.constant(4.0)\n",
    "\n",
    "sess = tf.Session()\n",
    "print(sess.run([node1, node2]))\n",
    "print(sess.run((node1, node2)))\n",
    "sess.close()"
   ]
  },
  {
   "cell_type": "code",
   "execution_count": 35,
   "metadata": {},
   "outputs": [
    {
     "name": "stdout",
     "output_type": "stream",
     "text": [
      "12.0\n",
      "[ 2. 12.]\n"
     ]
    }
   ],
   "source": [
    "a = tf.placeholder(tf.float32)\n",
    "b = tf.placeholder(tf.float32)\n",
    "ab_mul = tf.multiply(a,b)\n",
    "\n",
    "sess = tf.Session()\n",
    "print(sess.run(ab_mul, feed_dict={a:3, b:4}))\n",
    "print(sess.run(ab_mul, feed_dict={a:[1,3], b:[2,4]}))\n",
    "\n",
    "sess.close()"
   ]
  },
  {
   "cell_type": "markdown",
   "metadata": {},
   "source": [
    "<h3>2. Variable 이해하기</h3>"
   ]
  },
  {
   "cell_type": "code",
   "execution_count": 40,
   "metadata": {},
   "outputs": [
    {
     "name": "stdout",
     "output_type": "stream",
     "text": [
      "[0.         0.3        0.6        0.90000004]\n"
     ]
    }
   ],
   "source": [
    "w = tf.Variable([.3], tf.float32)\n",
    "b = tf.Variable([-.3], tf.float32)\n",
    "x = tf.placeholder(tf.float32)\n",
    "model = w * x + b\n",
    "\n",
    "init = tf.global_variables_initializer()\n",
    "sess = tf.Session()\n",
    "sess.run(init)\n",
    "\n",
    "print(sess.run(model, {x:[1,2,3,4]}))\n",
    "sess.close()"
   ]
  },
  {
   "cell_type": "code",
   "execution_count": 61,
   "metadata": {},
   "outputs": [
    {
     "name": "stdout",
     "output_type": "stream",
     "text": [
      "38\n"
     ]
    }
   ],
   "source": [
    "# Variable 초기화 방법 1\n",
    "x = tf.Variable(3, name='x')\n",
    "y = tf.Variable(4, name='y')\n",
    "\n",
    "sess = tf.Session()\n",
    "f = x*x*y + 2\n",
    "sess.run(tf.global_variables_initializer())\n",
    "#print(sess.run(f))\n",
    "print(f.eval(session=sess))\n",
    "sess.close()"
   ]
  },
  {
   "cell_type": "code",
   "execution_count": 63,
   "metadata": {},
   "outputs": [
    {
     "name": "stdout",
     "output_type": "stream",
     "text": [
      "38\n"
     ]
    }
   ],
   "source": [
    "# Variable 초기화 방법 2\n",
    "with tf.Session() as sess:\n",
    "    x.initializer.run()\n",
    "    y.initializer.run()\n",
    "    print(f.eval())"
   ]
  },
  {
   "cell_type": "markdown",
   "metadata": {},
   "source": [
    "<h3>3. TensorBoard</h3>"
   ]
  },
  {
   "cell_type": "code",
   "execution_count": 74,
   "metadata": {},
   "outputs": [
    {
     "name": "stdout",
     "output_type": "stream",
     "text": [
      "185\n"
     ]
    }
   ],
   "source": [
    "a = tf.add(10, 20, name=\"a_add\")\n",
    "b = tf.multiply(a, 5, name=\"b_mul\")\n",
    "\n",
    "c = tf.add(3,4, name=\"c_add\")\n",
    "d = tf.multiply(c, 5, name=\"d_mul\")\n",
    "e = tf.add(b, d , name = \"e_add_result\")\n",
    "\n",
    "with tf.Session() as sess:\n",
    "    print(sess.run(e))\n",
    "    tf.summary.FileWriter(\"tensorboard/\", sess.graph)"
   ]
  }
 ],
 "metadata": {
  "kernelspec": {
   "display_name": "Python 3",
   "language": "python",
   "name": "python3"
  },
  "language_info": {
   "codemirror_mode": {
    "name": "ipython",
    "version": 3
   },
   "file_extension": ".py",
   "mimetype": "text/x-python",
   "name": "python",
   "nbconvert_exporter": "python",
   "pygments_lexer": "ipython3",
   "version": "3.6.5"
  }
 },
 "nbformat": 4,
 "nbformat_minor": 2
}
