{
 "cells": [
  {
   "cell_type": "markdown",
   "metadata": {},
   "source": [
    "<h3> XOR 문제를 MultiLayerPerceptron으로 수행</h3>"
   ]
  },
  {
   "cell_type": "code",
   "execution_count": 2,
   "metadata": {},
   "outputs": [
    {
     "name": "stderr",
     "output_type": "stream",
     "text": [
      "C:\\Users\\kitcoop\\Anaconda3\\envs\\test\\lib\\site-packages\\h5py\\__init__.py:36: FutureWarning: Conversion of the second argument of issubdtype from `float` to `np.floating` is deprecated. In future, it will be treated as `np.float64 == np.dtype(float).type`.\n",
      "  from ._conv import register_converters as _register_converters\n"
     ]
    }
   ],
   "source": [
    "import tensorflow as tf\n",
    "import numpy as np"
   ]
  },
  {
   "cell_type": "code",
   "execution_count": 4,
   "metadata": {},
   "outputs": [],
   "source": [
    "x_data = np.array([[0,0],[0,1],[1,0],[1,1]])\n",
    "y_data = np.array([[0],[1],[1],[0]])"
   ]
  },
  {
   "cell_type": "code",
   "execution_count": 48,
   "metadata": {},
   "outputs": [
    {
     "name": "stdout",
     "output_type": "stream",
     "text": [
      "0.7635846\n",
      "0.31908897\n",
      "0.054429263\n",
      "0.0266379\n",
      "0.01734822\n",
      "0.01279173\n",
      "0.010104967\n",
      "0.008339127\n",
      "0.0070924433\n",
      "0.006166538\n",
      "0.00545225\n",
      "[[0.00527003]\n",
      " [0.9951473 ]\n",
      " [0.9928746 ]\n",
      " [0.00449688]] [[0.]\n",
      " [1.]\n",
      " [1.]\n",
      " [0.]] 1.0\n"
     ]
    }
   ],
   "source": [
    "x = tf.placeholder(tf.float32, shape=[None, 2])\n",
    "y = tf.placeholder(tf.float32, shape=[None, 1])\n",
    "\n",
    "w1 = tf.Variable(tf.random_normal([2, 2]), name='wegiht1')\n",
    "b1 = tf.Variable(tf.random_normal([2]), name='b1')\n",
    "layer1 = tf.sigmoid(tf.matmul(x, w1) + b1)\n",
    "\n",
    "w2 = tf.Variable(tf.random_normal([2, 1]), name='wegiht2')\n",
    "b2 = tf.Variable(tf.random_normal([1]), name='b2')\n",
    "h = tf.sigmoid(tf.matmul(layer1, w2) + b2)\n",
    "\n",
    "\n",
    "cost = -tf.reduce_mean(y * tf.log(h) + (1-y)*tf.log(1-h))\n",
    "train = tf.train.GradientDescentOptimizer(0.2).minimize(cost)\n",
    "\n",
    "predict = tf.cast(h > 0.5 , dtype=tf.float32)\n",
    "accuracy = tf.reduce_mean(tf.cast(tf.equal(predict, y), dtype=tf.float32))\n",
    "\n",
    "with tf.Session() as sess:\n",
    "    sess.run(tf.global_variables_initializer())\n",
    "    \n",
    "    for s in range(10001):\n",
    "        _, cur_c, cur_w = sess.run([train, cost, w], feed_dict={x: x_data, y:y_data})\n",
    "    \n",
    "        if s % 1000 == 0:\n",
    "            print(cur_c)\n",
    "    \n",
    "    hy, pr, ac = sess.run([h, predict, accuracy], feed_dict = {x:x_data, y:y_data})\n",
    "    print(hy, pr, ac)"
   ]
  },
  {
   "cell_type": "markdown",
   "metadata": {},
   "source": [
    "<b>Layer 추가</b>"
   ]
  },
  {
   "cell_type": "code",
   "execution_count": 5,
   "metadata": {},
   "outputs": [
    {
     "name": "stdout",
     "output_type": "stream",
     "text": [
      "1.239746\n",
      "0.6907994\n",
      "0.62716335\n",
      "0.14082772\n",
      "0.02004632\n",
      "0.009900522\n",
      "0.0063913525\n",
      "0.004649928\n",
      "0.0036222788\n",
      "0.0029496504\n",
      "0.0024779364\n",
      "[[0.00290916]\n",
      " [0.9982651 ]\n",
      " [0.9973152 ]\n",
      " [0.00256849]] [[0.]\n",
      " [1.]\n",
      " [1.]\n",
      " [0.]] 1.0\n"
     ]
    }
   ],
   "source": [
    "x = tf.placeholder(tf.float32, shape=[None, 2])\n",
    "y = tf.placeholder(tf.float32, shape=[None, 1])\n",
    "\n",
    "with tf.name_scope(\"layer1\"):\n",
    "    w1 = tf.Variable(tf.random_normal([2, 2]), name='wegiht1')\n",
    "    b1 = tf.Variable(tf.random_normal([2]), name='b1')\n",
    "    layer1 = tf.sigmoid(tf.matmul(x, w1) + b1)\n",
    "\n",
    "with tf.name_scope(\"layer2\"):\n",
    "    w2 = tf.Variable(tf.random_normal([2, 2]), name='wegiht2')\n",
    "    b2 = tf.Variable(tf.random_normal([2]), name='b2')\n",
    "    layer2 = tf.sigmoid(tf.matmul(layer1, w2) + b2)\n",
    "\n",
    "with tf.name_scope(\"last_layer\"):\n",
    "    w3 = tf.Variable(tf.random_normal([2, 1]), name='wegiht3')\n",
    "    b3 = tf.Variable(tf.random_normal([1]), name='b3')\n",
    "\n",
    "    h = tf.sigmoid(tf.matmul(layer2, w3) + b3)\n",
    "\n",
    "cost = -tf.reduce_mean(y * tf.log(h) + (1-y)*tf.log(1-h))\n",
    "train = tf.train.GradientDescentOptimizer(0.2).minimize(cost)\n",
    "\n",
    "predict = tf.cast(h > 0.5 , dtype=tf.float32)\n",
    "accuracy = tf.reduce_mean(tf.cast(tf.equal(predict, y), dtype=tf.float32))\n",
    "\n",
    "with tf.Session() as sess:\n",
    "    sess.run(tf.global_variables_initializer())\n",
    "    \n",
    "    for s in range(10001):\n",
    "        _, cur_c = sess.run([train, cost], feed_dict={x: x_data, y:y_data})\n",
    "    \n",
    "        if s % 1000 == 0:\n",
    "            print(cur_c)\n",
    "    \n",
    "    hy, pr, ac = sess.run([h, predict, accuracy], feed_dict = {x:x_data, y:y_data})\n",
    "    print(hy, pr, ac)\n",
    "    \n",
    "    tf.summary.FileWriter(\"tensorboard/\", sess.graph)"
   ]
  }
 ],
 "metadata": {
  "kernelspec": {
   "display_name": "Python 3",
   "language": "python",
   "name": "python3"
  },
  "language_info": {
   "codemirror_mode": {
    "name": "ipython",
    "version": 3
   },
   "file_extension": ".py",
   "mimetype": "text/x-python",
   "name": "python",
   "nbconvert_exporter": "python",
   "pygments_lexer": "ipython3",
   "version": "3.6.5"
  }
 },
 "nbformat": 4,
 "nbformat_minor": 2
}
